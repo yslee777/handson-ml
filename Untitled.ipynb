{
 "cells": [
  {
   "cell_type": "code",
   "execution_count": 1,
   "metadata": {},
   "outputs": [
    {
     "name": "stderr",
     "output_type": "stream",
     "text": [
      "Using TensorFlow backend.\n"
     ]
    }
   ],
   "source": [
    "from keras.layers import Input, Dense\n",
    "from keras.models import Model\n",
    "\n",
    "# this is the size of our encoded representations\n",
    "encoding_dim = 32  # 32 floats -> compression of factor 24.5, assuming the input is 784 floats\n",
    "\n",
    "# this is our input placeholder\n",
    "input_img = Input(shape=(784,))\n",
    "# \"encoded\" is the encoded representation of the input\n",
    "encoded = Dense(encoding_dim, activation='relu')(input_img)\n",
    "# \"decoded\" is the lossy reconstruction of the input\n",
    "decoded = Dense(784, activation='sigmoid')(encoded)\n",
    "\n",
    "# this model maps an input to its reconstruction\n",
    "autoencoder = Model(input_img, decoded)"
   ]
  },
  {
   "cell_type": "code",
   "execution_count": 3,
   "metadata": {},
   "outputs": [],
   "source": [
    " #this model maps an input to its encoded representation\n",
    "encoder = Model(input_img, encoded)"
   ]
  },
  {
   "cell_type": "code",
   "execution_count": 4,
   "metadata": {},
   "outputs": [],
   "source": [
    "# create a placeholder for an encoded (32-dimensional) input\n",
    "encoded_input = Input(shape=(encoding_dim,))\n",
    "# retrieve the last layer of the autoencoder model\n",
    "decoder_layer = autoencoder.layers[-1]\n",
    "# create the decoder model\n",
    "decoder = Model(encoded_input, decoder_layer(encoded_input))"
   ]
  },
  {
   "cell_type": "code",
   "execution_count": 5,
   "metadata": {},
   "outputs": [],
   "source": [
    "autoencoder.compile(optimizer='adadelta', loss='binary_crossentropy')"
   ]
  },
  {
   "cell_type": "code",
   "execution_count": 6,
   "metadata": {},
   "outputs": [],
   "source": [
    "from keras.datasets import mnist\n",
    "import numpy as np\n",
    "(x_train, _), (x_test, _) = mnist.load_data()"
   ]
  },
  {
   "cell_type": "code",
   "execution_count": 8,
   "metadata": {},
   "outputs": [
    {
     "name": "stdout",
     "output_type": "stream",
     "text": [
      "(60000, 784)\n",
      "(10000, 784)\n"
     ]
    }
   ],
   "source": [
    "x_train = x_train.astype('float32') / 255.\n",
    "x_test = x_test.astype('float32') / 255.\n",
    "x_train = x_train.reshape((len(x_train), np.prod(x_train.shape[1:])))\n",
    "x_test = x_test.reshape((len(x_test), np.prod(x_test.shape[1:])))\n",
    "print(x_train.shape)\n",
    "print(x_test.shape)"
   ]
  },
  {
   "cell_type": "code",
   "execution_count": 9,
   "metadata": {},
   "outputs": [
    {
     "name": "stdout",
     "output_type": "stream",
     "text": [
      "Train on 60000 samples, validate on 10000 samples\n",
      "Epoch 1/50\n",
      "60000/60000 [==============================] - 1s 14us/step - loss: 0.3665 - val_loss: 0.2706\n",
      "Epoch 2/50\n",
      "60000/60000 [==============================] - 1s 10us/step - loss: 0.2618 - val_loss: 0.2496\n",
      "Epoch 3/50\n",
      "60000/60000 [==============================] - 1s 12us/step - loss: 0.2397 - val_loss: 0.2279\n",
      "Epoch 4/50\n",
      "60000/60000 [==============================] - 1s 12us/step - loss: 0.2208 - val_loss: 0.2115\n",
      "Epoch 5/50\n",
      "60000/60000 [==============================] - 1s 12us/step - loss: 0.2065 - val_loss: 0.1990\n",
      "Epoch 6/50\n",
      "60000/60000 [==============================] - 1s 12us/step - loss: 0.1956 - val_loss: 0.1896\n",
      "Epoch 7/50\n",
      "60000/60000 [==============================] - 1s 12us/step - loss: 0.1869 - val_loss: 0.1817\n",
      "Epoch 8/50\n",
      "60000/60000 [==============================] - 1s 12us/step - loss: 0.1797 - val_loss: 0.1751\n",
      "Epoch 9/50\n",
      "60000/60000 [==============================] - 1s 12us/step - loss: 0.1737 - val_loss: 0.1696\n",
      "Epoch 10/50\n",
      "60000/60000 [==============================] - 1s 12us/step - loss: 0.1684 - val_loss: 0.1648\n",
      "Epoch 11/50\n",
      "60000/60000 [==============================] - 1s 12us/step - loss: 0.1637 - val_loss: 0.1602\n",
      "Epoch 12/50\n",
      "60000/60000 [==============================] - 1s 12us/step - loss: 0.1595 - val_loss: 0.1562\n",
      "Epoch 13/50\n",
      "60000/60000 [==============================] - 1s 12us/step - loss: 0.1556 - val_loss: 0.1525\n",
      "Epoch 14/50\n",
      "60000/60000 [==============================] - 1s 11us/step - loss: 0.1521 - val_loss: 0.1492\n",
      "Epoch 15/50\n",
      "60000/60000 [==============================] - 1s 10us/step - loss: 0.1490 - val_loss: 0.1462\n",
      "Epoch 16/50\n",
      "60000/60000 [==============================] - 1s 10us/step - loss: 0.1461 - val_loss: 0.1433\n",
      "Epoch 17/50\n",
      "60000/60000 [==============================] - 1s 10us/step - loss: 0.1435 - val_loss: 0.1409\n",
      "Epoch 18/50\n",
      "60000/60000 [==============================] - 1s 10us/step - loss: 0.1411 - val_loss: 0.1385\n",
      "Epoch 19/50\n",
      "60000/60000 [==============================] - 1s 10us/step - loss: 0.1389 - val_loss: 0.1364\n",
      "Epoch 20/50\n",
      "60000/60000 [==============================] - 1s 9us/step - loss: 0.1368 - val_loss: 0.1343\n",
      "Epoch 21/50\n",
      "60000/60000 [==============================] - 1s 9us/step - loss: 0.1348 - val_loss: 0.1325\n",
      "Epoch 22/50\n",
      "60000/60000 [==============================] - 1s 9us/step - loss: 0.1329 - val_loss: 0.1305\n",
      "Epoch 23/50\n",
      "60000/60000 [==============================] - 1s 9us/step - loss: 0.1311 - val_loss: 0.1287\n",
      "Epoch 24/50\n",
      "60000/60000 [==============================] - 1s 10us/step - loss: 0.1294 - val_loss: 0.1270\n",
      "Epoch 25/50\n",
      "60000/60000 [==============================] - 1s 9us/step - loss: 0.1277 - val_loss: 0.1254\n",
      "Epoch 26/50\n",
      "60000/60000 [==============================] - 1s 10us/step - loss: 0.1261 - val_loss: 0.1238\n",
      "Epoch 27/50\n",
      "60000/60000 [==============================] - 1s 10us/step - loss: 0.1246 - val_loss: 0.1223\n",
      "Epoch 28/50\n",
      "60000/60000 [==============================] - 1s 10us/step - loss: 0.1231 - val_loss: 0.1209\n",
      "Epoch 29/50\n",
      "60000/60000 [==============================] - 1s 10us/step - loss: 0.1216 - val_loss: 0.1194\n",
      "Epoch 30/50\n",
      "60000/60000 [==============================] - 1s 10us/step - loss: 0.1203 - val_loss: 0.1180\n",
      "Epoch 31/50\n",
      "60000/60000 [==============================] - 1s 10us/step - loss: 0.1190 - val_loss: 0.1168\n",
      "Epoch 32/50\n",
      "60000/60000 [==============================] - 1s 10us/step - loss: 0.1177 - val_loss: 0.1156\n",
      "Epoch 33/50\n",
      "60000/60000 [==============================] - 1s 10us/step - loss: 0.1166 - val_loss: 0.1144\n",
      "Epoch 34/50\n",
      "60000/60000 [==============================] - 1s 10us/step - loss: 0.1155 - val_loss: 0.1134\n",
      "Epoch 35/50\n",
      "60000/60000 [==============================] - 1s 10us/step - loss: 0.1145 - val_loss: 0.1124\n",
      "Epoch 36/50\n",
      "60000/60000 [==============================] - 1s 10us/step - loss: 0.1136 - val_loss: 0.1115\n",
      "Epoch 37/50\n",
      "60000/60000 [==============================] - 1s 10us/step - loss: 0.1127 - val_loss: 0.1107\n",
      "Epoch 38/50\n",
      "60000/60000 [==============================] - 1s 10us/step - loss: 0.1119 - val_loss: 0.1100\n",
      "Epoch 39/50\n",
      "60000/60000 [==============================] - 1s 10us/step - loss: 0.1112 - val_loss: 0.1093\n",
      "Epoch 40/50\n",
      "60000/60000 [==============================] - 1s 10us/step - loss: 0.1105 - val_loss: 0.1086\n",
      "Epoch 41/50\n",
      "60000/60000 [==============================] - 1s 11us/step - loss: 0.1099 - val_loss: 0.1080\n",
      "Epoch 42/50\n",
      "60000/60000 [==============================] - 1s 12us/step - loss: 0.1094 - val_loss: 0.1075\n",
      "Epoch 43/50\n",
      "60000/60000 [==============================] - 1s 10us/step - loss: 0.1089 - val_loss: 0.1070\n",
      "Epoch 44/50\n",
      "60000/60000 [==============================] - 1s 10us/step - loss: 0.1084 - val_loss: 0.1065\n",
      "Epoch 45/50\n",
      "60000/60000 [==============================] - 1s 11us/step - loss: 0.1079 - val_loss: 0.1061\n",
      "Epoch 46/50\n",
      "60000/60000 [==============================] - 1s 10us/step - loss: 0.1075 - val_loss: 0.1057\n",
      "Epoch 47/50\n",
      "60000/60000 [==============================] - 1s 10us/step - loss: 0.1071 - val_loss: 0.1053\n",
      "Epoch 48/50\n",
      "60000/60000 [==============================] - 1s 10us/step - loss: 0.1068 - val_loss: 0.1050\n",
      "Epoch 49/50\n",
      "60000/60000 [==============================] - 1s 10us/step - loss: 0.1065 - val_loss: 0.1047\n",
      "Epoch 50/50\n",
      "60000/60000 [==============================] - 1s 10us/step - loss: 0.1061 - val_loss: 0.1044\n"
     ]
    },
    {
     "data": {
      "text/plain": [
       "<keras.callbacks.callbacks.History at 0x1f11abefcc8>"
      ]
     },
     "execution_count": 9,
     "metadata": {},
     "output_type": "execute_result"
    }
   ],
   "source": [
    "autoencoder.fit(x_train, x_train,\n",
    "                epochs=50,\n",
    "                batch_size=256,\n",
    "                shuffle=True,\n",
    "                validation_data=(x_test, x_test))"
   ]
  },
  {
   "cell_type": "code",
   "execution_count": 10,
   "metadata": {},
   "outputs": [],
   "source": [
    "# encode and decode some digits\n",
    "# note that we take them from the *test* set\n",
    "encoded_imgs = encoder.predict(x_test)\n",
    "decoded_imgs = decoder.predict(encoded_imgs)"
   ]
  },
  {
   "cell_type": "code",
   "execution_count": 11,
   "metadata": {},
   "outputs": [
    {
     "data": {
      "image/png": "[encoded data removed]",
      "text/plain": [
       "<Figure size 1440x288 with 20 Axes>"
      ]
     },
     "metadata": {
      "needs_background": "light"
     },
     "output_type": "display_data"
    }
   ],
   "source": [
    "# use Matplotlib (don't ask)\n",
    "import matplotlib.pyplot as plt\n",
    "\n",
    "n = 10  # how many digits we will display\n",
    "plt.figure(figsize=(20, 4))\n",
    "for i in range(n):\n",
    "    # display original\n",
    "    ax = plt.subplot(2, n, i + 1)\n",
    "    plt.imshow(x_test[i].reshape(28, 28))\n",
    "    plt.gray()\n",
    "    ax.get_xaxis().set_visible(False)\n",
    "    ax.get_yaxis().set_visible(False)\n",
    "\n",
    "    # display reconstruction\n",
    "    ax = plt.subplot(2, n, i + 1 + n)\n",
    "    plt.imshow(decoded_imgs[i].reshape(28, 28))\n",
    "    plt.gray()\n",
    "    ax.get_xaxis().set_visible(False)\n",
    "    ax.get_yaxis().set_visible(False)\n",
    "plt.show()"
   ]
  },
  {
   "cell_type": "code",
   "execution_count": 12,
   "metadata": {},
   "outputs": [],
   "source": [
    "from keras import regularizers\n",
    "\n",
    "encoding_dim = 32\n",
    "\n",
    "input_img = Input(shape=(784,))\n",
    "# add a Dense layer with a L1 activity regularizer\n",
    "encoded = Dense(encoding_dim, activation='relu',\n",
    "                activity_regularizer=regularizers.l1(10e-5))(input_img)\n",
    "decoded = Dense(784, activation='sigmoid')(encoded)\n",
    "\n",
    "autoencoder = Model(input_img, decoded)"
   ]
  },
  {
   "cell_type": "code",
   "execution_count": 13,
   "metadata": {},
   "outputs": [],
   "source": [
    "input_img = Input(shape=(784,))\n",
    "encoded = Dense(128, activation='relu')(input_img)\n",
    "encoded = Dense(64, activation='relu')(encoded)\n",
    "encoded = Dense(32, activation='relu')(encoded)\n",
    "\n",
    "decoded = Dense(64, activation='relu')(encoded)\n",
    "decoded = Dense(128, activation='relu')(decoded)\n",
    "decoded = Dense(784, activation='sigmoid')(decoded)"
   ]
  },
  {
   "cell_type": "code",
   "execution_count": 14,
   "metadata": {},
   "outputs": [
    {
     "name": "stdout",
     "output_type": "stream",
     "text": [
      "Train on 60000 samples, validate on 10000 samples\n",
      "Epoch 1/100\n",
      "60000/60000 [==============================] - 1s 18us/step - loss: 0.3597 - val_loss: 0.2655\n",
      "Epoch 2/100\n",
      "60000/60000 [==============================] - 1s 16us/step - loss: 0.2575 - val_loss: 0.2504\n",
      "Epoch 3/100\n",
      "60000/60000 [==============================] - 1s 16us/step - loss: 0.2410 - val_loss: 0.2301\n",
      "Epoch 4/100\n",
      "60000/60000 [==============================] - 1s 17us/step - loss: 0.2182 - val_loss: 0.2087\n",
      "Epoch 5/100\n",
      "60000/60000 [==============================] - 1s 17us/step - loss: 0.2027 - val_loss: 0.1968\n",
      "Epoch 6/100\n",
      "60000/60000 [==============================] - 1s 16us/step - loss: 0.1939 - val_loss: 0.1887\n",
      "Epoch 7/100\n",
      "60000/60000 [==============================] - 1s 17us/step - loss: 0.1856 - val_loss: 0.1795\n",
      "Epoch 8/100\n",
      "60000/60000 [==============================] - 1s 17us/step - loss: 0.1772 - val_loss: 0.1711\n",
      "Epoch 9/100\n",
      "60000/60000 [==============================] - 1s 17us/step - loss: 0.1711 - val_loss: 0.1723\n",
      "Epoch 10/100\n",
      "60000/60000 [==============================] - 1s 17us/step - loss: 0.1662 - val_loss: 0.1617\n",
      "Epoch 11/100\n",
      "60000/60000 [==============================] - 1s 17us/step - loss: 0.1618 - val_loss: 0.1607\n",
      "Epoch 12/100\n",
      "60000/60000 [==============================] - 1s 17us/step - loss: 0.1578 - val_loss: 0.1566\n",
      "Epoch 13/100\n",
      "60000/60000 [==============================] - 1s 17us/step - loss: 0.1546 - val_loss: 0.1523\n",
      "Epoch 14/100\n",
      "60000/60000 [==============================] - 1s 17us/step - loss: 0.1517 - val_loss: 0.1492\n",
      "Epoch 15/100\n",
      "60000/60000 [==============================] - 1s 17us/step - loss: 0.1492 - val_loss: 0.1457\n",
      "Epoch 16/100\n",
      "60000/60000 [==============================] - 1s 16us/step - loss: 0.1470 - val_loss: 0.1436\n",
      "Epoch 17/100\n",
      "60000/60000 [==============================] - 1s 17us/step - loss: 0.1446 - val_loss: 0.1412\n",
      "Epoch 18/100\n",
      "60000/60000 [==============================] - 1s 16us/step - loss: 0.1424 - val_loss: 0.1392\n",
      "Epoch 19/100\n",
      "60000/60000 [==============================] - 1s 16us/step - loss: 0.1403 - val_loss: 0.1388\n",
      "Epoch 20/100\n",
      "60000/60000 [==============================] - 1s 17us/step - loss: 0.1382 - val_loss: 0.1352\n",
      "Epoch 21/100\n",
      "60000/60000 [==============================] - 1s 17us/step - loss: 0.1365 - val_loss: 0.1334\n",
      "Epoch 22/100\n",
      "60000/60000 [==============================] - 1s 17us/step - loss: 0.1346 - val_loss: 0.1317\n",
      "Epoch 23/100\n",
      "60000/60000 [==============================] - 1s 17us/step - loss: 0.1331 - val_loss: 0.1304\n",
      "Epoch 24/100\n",
      "60000/60000 [==============================] - 1s 17us/step - loss: 0.1315 - val_loss: 0.1293\n",
      "Epoch 25/100\n",
      "60000/60000 [==============================] - 1s 17us/step - loss: 0.1303 - val_loss: 0.1290\n",
      "Epoch 26/100\n",
      "60000/60000 [==============================] - 1s 17us/step - loss: 0.1290 - val_loss: 0.1264\n",
      "Epoch 27/100\n",
      "60000/60000 [==============================] - 1s 17us/step - loss: 0.1279 - val_loss: 0.1271\n",
      "Epoch 28/100\n",
      "60000/60000 [==============================] - 1s 17us/step - loss: 0.1267 - val_loss: 0.1251\n",
      "Epoch 29/100\n",
      "60000/60000 [==============================] - 1s 17us/step - loss: 0.1256 - val_loss: 0.1245\n",
      "Epoch 30/100\n",
      "60000/60000 [==============================] - 1s 17us/step - loss: 0.1247 - val_loss: 0.1263\n",
      "Epoch 31/100\n",
      "60000/60000 [==============================] - 1s 17us/step - loss: 0.1236 - val_loss: 0.1226\n",
      "Epoch 32/100\n",
      "60000/60000 [==============================] - 1s 17us/step - loss: 0.1228 - val_loss: 0.1225\n",
      "Epoch 33/100\n",
      "60000/60000 [==============================] - 1s 17us/step - loss: 0.1219 - val_loss: 0.1197\n",
      "Epoch 34/100\n",
      "60000/60000 [==============================] - 1s 17us/step - loss: 0.1212 - val_loss: 0.1182\n",
      "Epoch 35/100\n",
      "60000/60000 [==============================] - 1s 17us/step - loss: 0.1203 - val_loss: 0.1184\n",
      "Epoch 36/100\n",
      "60000/60000 [==============================] - 1s 17us/step - loss: 0.1196 - val_loss: 0.1183\n",
      "Epoch 37/100\n",
      "60000/60000 [==============================] - 1s 17us/step - loss: 0.1189 - val_loss: 0.1191\n",
      "Epoch 38/100\n",
      "60000/60000 [==============================] - 1s 16us/step - loss: 0.1182 - val_loss: 0.1166\n",
      "Epoch 39/100\n",
      "60000/60000 [==============================] - 1s 16us/step - loss: 0.1175 - val_loss: 0.1152\n",
      "Epoch 40/100\n",
      "60000/60000 [==============================] - 1s 17us/step - loss: 0.1170 - val_loss: 0.1152\n",
      "Epoch 41/100\n",
      "60000/60000 [==============================] - 1s 16us/step - loss: 0.1164 - val_loss: 0.1145\n",
      "Epoch 42/100\n",
      "60000/60000 [==============================] - 1s 16us/step - loss: 0.1160 - val_loss: 0.1153\n",
      "Epoch 43/100\n",
      "60000/60000 [==============================] - 1s 17us/step - loss: 0.1155 - val_loss: 0.1144\n",
      "Epoch 44/100\n",
      "60000/60000 [==============================] - 1s 17us/step - loss: 0.1149 - val_loss: 0.1127\n",
      "Epoch 45/100\n",
      "60000/60000 [==============================] - 1s 17us/step - loss: 0.1144 - val_loss: 0.1134\n",
      "Epoch 46/100\n",
      "60000/60000 [==============================] - 1s 17us/step - loss: 0.1140 - val_loss: 0.1124\n",
      "Epoch 47/100\n",
      "60000/60000 [==============================] - 1s 17us/step - loss: 0.1135 - val_loss: 0.1124\n",
      "Epoch 48/100\n",
      "60000/60000 [==============================] - 1s 16us/step - loss: 0.1133 - val_loss: 0.1121\n",
      "Epoch 49/100\n",
      "60000/60000 [==============================] - 1s 17us/step - loss: 0.1126 - val_loss: 0.1150\n",
      "Epoch 50/100\n",
      "60000/60000 [==============================] - 1s 17us/step - loss: 0.1123 - val_loss: 0.1107\n",
      "Epoch 51/100\n",
      "60000/60000 [==============================] - 1s 17us/step - loss: 0.1118 - val_loss: 0.1127\n",
      "Epoch 52/100\n",
      "60000/60000 [==============================] - 1s 17us/step - loss: 0.1114 - val_loss: 0.1097\n",
      "Epoch 53/100\n",
      "60000/60000 [==============================] - 1s 17us/step - loss: 0.1109 - val_loss: 0.1108\n",
      "Epoch 54/100\n",
      "60000/60000 [==============================] - 1s 17us/step - loss: 0.1105 - val_loss: 0.1081\n",
      "Epoch 55/100\n",
      "60000/60000 [==============================] - 1s 16us/step - loss: 0.1102 - val_loss: 0.1077\n",
      "Epoch 56/100\n",
      "60000/60000 [==============================] - 1s 17us/step - loss: 0.1097 - val_loss: 0.1086\n",
      "Epoch 57/100\n",
      "60000/60000 [==============================] - 1s 16us/step - loss: 0.1092 - val_loss: 0.1090\n",
      "Epoch 58/100\n",
      "60000/60000 [==============================] - 1s 17us/step - loss: 0.1090 - val_loss: 0.1079\n",
      "Epoch 59/100\n",
      "60000/60000 [==============================] - 1s 17us/step - loss: 0.1086 - val_loss: 0.1076\n",
      "Epoch 60/100\n",
      "60000/60000 [==============================] - 1s 17us/step - loss: 0.1083 - val_loss: 0.1057\n",
      "Epoch 61/100\n",
      "60000/60000 [==============================] - 1s 16us/step - loss: 0.1079 - val_loss: 0.1057\n",
      "Epoch 62/100\n",
      "60000/60000 [==============================] - 1s 16us/step - loss: 0.1074 - val_loss: 0.1046\n",
      "Epoch 63/100\n",
      "60000/60000 [==============================] - 1s 17us/step - loss: 0.1073 - val_loss: 0.1064\n",
      "Epoch 64/100\n",
      "60000/60000 [==============================] - 1s 17us/step - loss: 0.1069 - val_loss: 0.1063\n",
      "Epoch 65/100\n",
      "60000/60000 [==============================] - 1s 17us/step - loss: 0.1066 - val_loss: 0.1088\n",
      "Epoch 66/100\n",
      "60000/60000 [==============================] - 1s 18us/step - loss: 0.1063 - val_loss: 0.1051\n",
      "Epoch 67/100\n",
      "60000/60000 [==============================] - 1s 17us/step - loss: 0.1060 - val_loss: 0.1054\n",
      "Epoch 68/100\n",
      "60000/60000 [==============================] - 1s 17us/step - loss: 0.1059 - val_loss: 0.1056\n",
      "Epoch 69/100\n",
      "60000/60000 [==============================] - 1s 17us/step - loss: 0.1055 - val_loss: 0.1048\n",
      "Epoch 70/100\n",
      "60000/60000 [==============================] - 1s 17us/step - loss: 0.1053 - val_loss: 0.1037\n",
      "Epoch 71/100\n",
      "60000/60000 [==============================] - 1s 17us/step - loss: 0.1049 - val_loss: 0.1043\n",
      "Epoch 72/100\n",
      "60000/60000 [==============================] - 1s 17us/step - loss: 0.1047 - val_loss: 0.1040\n",
      "Epoch 73/100\n",
      "60000/60000 [==============================] - 1s 17us/step - loss: 0.1044 - val_loss: 0.1048\n",
      "Epoch 74/100\n",
      "60000/60000 [==============================] - 1s 17us/step - loss: 0.1044 - val_loss: 0.1031\n",
      "Epoch 75/100\n",
      "60000/60000 [==============================] - 1s 17us/step - loss: 0.1040 - val_loss: 0.1032\n",
      "Epoch 76/100\n",
      "60000/60000 [==============================] - 1s 18us/step - loss: 0.1038 - val_loss: 0.1031\n",
      "Epoch 77/100\n"
     ]
    },
    {
     "name": "stdout",
     "output_type": "stream",
     "text": [
      "60000/60000 [==============================] - 1s 17us/step - loss: 0.1036 - val_loss: 0.1025\n",
      "Epoch 78/100\n",
      "60000/60000 [==============================] - 1s 18us/step - loss: 0.1033 - val_loss: 0.1068\n",
      "Epoch 79/100\n",
      "60000/60000 [==============================] - 1s 17us/step - loss: 0.1033 - val_loss: 0.1015\n",
      "Epoch 80/100\n",
      "60000/60000 [==============================] - 1s 17us/step - loss: 0.1029 - val_loss: 0.1019\n",
      "Epoch 81/100\n",
      "60000/60000 [==============================] - 1s 17us/step - loss: 0.1028 - val_loss: 0.1014\n",
      "Epoch 82/100\n",
      "60000/60000 [==============================] - 1s 17us/step - loss: 0.1025 - val_loss: 0.1018\n",
      "Epoch 83/100\n",
      "60000/60000 [==============================] - 1s 17us/step - loss: 0.1022 - val_loss: 0.1008\n",
      "Epoch 84/100\n",
      "60000/60000 [==============================] - 1s 17us/step - loss: 0.1021 - val_loss: 0.1016\n",
      "Epoch 85/100\n",
      "60000/60000 [==============================] - 1s 17us/step - loss: 0.1019 - val_loss: 0.1001\n",
      "Epoch 86/100\n",
      "60000/60000 [==============================] - 1s 17us/step - loss: 0.1016 - val_loss: 0.1006\n",
      "Epoch 87/100\n",
      "60000/60000 [==============================] - 1s 17us/step - loss: 0.1015 - val_loss: 0.1012\n",
      "Epoch 88/100\n",
      "60000/60000 [==============================] - 1s 17us/step - loss: 0.1012 - val_loss: 0.1009\n",
      "Epoch 89/100\n",
      "60000/60000 [==============================] - 1s 17us/step - loss: 0.1010 - val_loss: 0.1008\n",
      "Epoch 90/100\n",
      "60000/60000 [==============================] - 1s 17us/step - loss: 0.1010 - val_loss: 0.1012\n",
      "Epoch 91/100\n",
      "60000/60000 [==============================] - 1s 17us/step - loss: 0.1007 - val_loss: 0.1000\n",
      "Epoch 92/100\n",
      "60000/60000 [==============================] - 1s 17us/step - loss: 0.1005 - val_loss: 0.0991\n",
      "Epoch 93/100\n",
      "60000/60000 [==============================] - 1s 17us/step - loss: 0.1003 - val_loss: 0.0987\n",
      "Epoch 94/100\n",
      "60000/60000 [==============================] - 1s 17us/step - loss: 0.1001 - val_loss: 0.0987\n",
      "Epoch 95/100\n",
      "60000/60000 [==============================] - 1s 17us/step - loss: 0.0999 - val_loss: 0.1004\n",
      "Epoch 96/100\n",
      "60000/60000 [==============================] - 1s 17us/step - loss: 0.0997 - val_loss: 0.0994\n",
      "Epoch 97/100\n",
      "60000/60000 [==============================] - 1s 17us/step - loss: 0.0997 - val_loss: 0.0988\n",
      "Epoch 98/100\n",
      "60000/60000 [==============================] - 1s 17us/step - loss: 0.0995 - val_loss: 0.0992\n",
      "Epoch 99/100\n",
      "60000/60000 [==============================] - 1s 17us/step - loss: 0.0993 - val_loss: 0.0979\n",
      "Epoch 100/100\n",
      "60000/60000 [==============================] - 1s 18us/step - loss: 0.0992 - val_loss: 0.0991\n"
     ]
    },
    {
     "data": {
      "text/plain": [
       "<keras.callbacks.callbacks.History at 0x1f1223f7c48>"
      ]
     },
     "execution_count": 14,
     "metadata": {},
     "output_type": "execute_result"
    }
   ],
   "source": [
    "autoencoder = Model(input_img, decoded)\n",
    "autoencoder.compile(optimizer='adadelta', loss='binary_crossentropy')\n",
    "\n",
    "autoencoder.fit(x_train, x_train,\n",
    "                epochs=100,\n",
    "                batch_size=256,\n",
    "                shuffle=True,\n",
    "                validation_data=(x_test, x_test))"
   ]
  },
  {
   "cell_type": "markdown",
   "metadata": {},
   "source": [
    "Convolutional autoencoder"
   ]
  },
  {
   "cell_type": "code",
   "execution_count": 15,
   "metadata": {},
   "outputs": [],
   "source": [
    "from keras.layers import Input, Dense, Conv2D, MaxPooling2D, UpSampling2D\n",
    "from keras.models import Model\n",
    "from keras import backend as K\n",
    "\n",
    "input_img = Input(shape=(28, 28, 1))  # adapt this if using `channels_first` image data format\n",
    "\n",
    "x = Conv2D(16, (3, 3), activation='relu', padding='same')(input_img)\n",
    "x = MaxPooling2D((2, 2), padding='same')(x)\n",
    "x = Conv2D(8, (3, 3), activation='relu', padding='same')(x)\n",
    "x = MaxPooling2D((2, 2), padding='same')(x)\n",
    "x = Conv2D(8, (3, 3), activation='relu', padding='same')(x)\n",
    "encoded = MaxPooling2D((2, 2), padding='same')(x)\n",
    "\n",
    "# at this point the representation is (4, 4, 8) i.e. 128-dimensional\n",
    "\n",
    "x = Conv2D(8, (3, 3), activation='relu', padding='same')(encoded)\n",
    "x = UpSampling2D((2, 2))(x)\n",
    "x = Conv2D(8, (3, 3), activation='relu', padding='same')(x)\n",
    "x = UpSampling2D((2, 2))(x)\n",
    "x = Conv2D(16, (3, 3), activation='relu')(x)\n",
    "x = UpSampling2D((2, 2))(x)\n",
    "decoded = Conv2D(1, (3, 3), activation='sigmoid', padding='same')(x)\n",
    "\n",
    "autoencoder = Model(input_img, decoded)\n",
    "autoencoder.compile(optimizer='adadelta', loss='binary_crossentropy')"
   ]
  },
  {
   "cell_type": "code",
   "execution_count": 16,
   "metadata": {},
   "outputs": [],
   "source": [
    "from keras.datasets import mnist\n",
    "import numpy as np\n",
    "\n",
    "(x_train, _), (x_test, _) = mnist.load_data()\n",
    "\n",
    "x_train = x_train.astype('float32') / 255.\n",
    "x_test = x_test.astype('float32') / 255.\n",
    "x_train = np.reshape(x_train, (len(x_train), 28, 28, 1))  # adapt this if using `channels_first` image data format\n",
    "x_test = np.reshape(x_test, (len(x_test), 28, 28, 1))  # adapt this if using `channels_first` image data format"
   ]
  },
  {
   "cell_type": "code",
   "execution_count": 24,
   "metadata": {},
   "outputs": [
    {
     "ename": "SyntaxError",
     "evalue": "invalid syntax (<ipython-input-24-d252ebf52f78>, line 1)",
     "output_type": "error",
     "traceback": [
      "\u001b[1;36m  File \u001b[1;32m\"<ipython-input-24-d252ebf52f78>\"\u001b[1;36m, line \u001b[1;32m1\u001b[0m\n\u001b[1;33m    tensorboard --logdir=/tmp/autoencoder\u001b[0m\n\u001b[1;37m                         ^\u001b[0m\n\u001b[1;31mSyntaxError\u001b[0m\u001b[1;31m:\u001b[0m invalid syntax\n"
     ]
    }
   ],
   "source": [
    "tensorboard --logdir=/tmp/autoencoder"
   ]
  },
  {
   "cell_type": "code",
   "execution_count": 23,
   "metadata": {},
   "outputs": [
    {
     "name": "stdout",
     "output_type": "stream",
     "text": [
      "Requirement already satisfied: tensorboard in c:\\programdata\\anaconda3\\lib\\site-packages (2.2.1)\n",
      "Requirement already satisfied: absl-py>=0.4 in c:\\programdata\\anaconda3\\lib\\site-packages (from tensorboard) (0.9.0)\n",
      "Requirement already satisfied: wheel>=0.26; python_version >= \"3\" in c:\\programdata\\anaconda3\\lib\\site-packages (from tensorboard) (0.34.2)\n",
      "Requirement already satisfied: six>=1.10.0 in c:\\programdata\\anaconda3\\lib\\site-packages (from tensorboard) (1.14.0)\n",
      "Requirement already satisfied: werkzeug>=0.11.15 in c:\\programdata\\anaconda3\\lib\\site-packages (from tensorboard) (1.0.0)\n",
      "Requirement already satisfied: tensorboard-plugin-wit>=1.6.0 in c:\\programdata\\anaconda3\\lib\\site-packages (from tensorboard) (1.6.0.post3)\n",
      "Requirement already satisfied: protobuf>=3.6.0 in c:\\programdata\\anaconda3\\lib\\site-packages (from tensorboard) (3.12.0)\n",
      "Requirement already satisfied: grpcio>=1.24.3 in c:\\programdata\\anaconda3\\lib\\site-packages (from tensorboard) (1.29.0)\n",
      "Requirement already satisfied: numpy>=1.12.0 in c:\\programdata\\anaconda3\\lib\\site-packages (from tensorboard) (1.18.1)\n",
      "Requirement already satisfied: requests<3,>=2.21.0 in c:\\programdata\\anaconda3\\lib\\site-packages (from tensorboard) (2.22.0)\n",
      "Requirement already satisfied: google-auth-oauthlib<0.5,>=0.4.1 in c:\\programdata\\anaconda3\\lib\\site-packages (from tensorboard) (0.4.1)\n",
      "Requirement already satisfied: google-auth<2,>=1.6.3 in c:\\programdata\\anaconda3\\lib\\site-packages (from tensorboard) (1.14.3)\n",
      "Requirement already satisfied: markdown>=2.6.8 in c:\\programdata\\anaconda3\\lib\\site-packages (from tensorboard) (3.2.2)\n",
      "Requirement already satisfied: setuptools>=41.0.0 in c:\\programdata\\anaconda3\\lib\\site-packages (from tensorboard) (45.2.0.post20200210)\n",
      "Requirement already satisfied: certifi>=2017.4.17 in c:\\programdata\\anaconda3\\lib\\site-packages (from requests<3,>=2.21.0->tensorboard) (2019.11.28)\n",
      "Requirement already satisfied: idna<2.9,>=2.5 in c:\\programdata\\anaconda3\\lib\\site-packages (from requests<3,>=2.21.0->tensorboard) (2.8)\n",
      "Requirement already satisfied: chardet<3.1.0,>=3.0.2 in c:\\programdata\\anaconda3\\lib\\site-packages (from requests<3,>=2.21.0->tensorboard) (3.0.4)\n",
      "Requirement already satisfied: urllib3!=1.25.0,!=1.25.1,<1.26,>=1.21.1 in c:\\programdata\\anaconda3\\lib\\site-packages (from requests<3,>=2.21.0->tensorboard) (1.25.8)\n",
      "Requirement already satisfied: requests-oauthlib>=0.7.0 in c:\\programdata\\anaconda3\\lib\\site-packages (from google-auth-oauthlib<0.5,>=0.4.1->tensorboard) (1.3.0)\n",
      "Requirement already satisfied: cachetools<5.0,>=2.0.0 in c:\\programdata\\anaconda3\\lib\\site-packages (from google-auth<2,>=1.6.3->tensorboard) (4.1.0)\n",
      "Requirement already satisfied: pyasn1-modules>=0.2.1 in c:\\programdata\\anaconda3\\lib\\site-packages (from google-auth<2,>=1.6.3->tensorboard) (0.2.8)\n",
      "Requirement already satisfied: rsa<4.1,>=3.1.4 in c:\\programdata\\anaconda3\\lib\\site-packages (from google-auth<2,>=1.6.3->tensorboard) (4.0)\n",
      "Requirement already satisfied: importlib-metadata; python_version < \"3.8\" in c:\\programdata\\anaconda3\\lib\\site-packages (from markdown>=2.6.8->tensorboard) (1.5.0)\n",
      "Requirement already satisfied: oauthlib>=3.0.0 in c:\\programdata\\anaconda3\\lib\\site-packages (from requests-oauthlib>=0.7.0->google-auth-oauthlib<0.5,>=0.4.1->tensorboard) (3.1.0)\n",
      "Requirement already satisfied: pyasn1<0.5.0,>=0.4.6 in c:\\programdata\\anaconda3\\lib\\site-packages (from pyasn1-modules>=0.2.1->google-auth<2,>=1.6.3->tensorboard) (0.4.8)\n",
      "Requirement already satisfied: zipp>=0.5 in c:\\programdata\\anaconda3\\lib\\site-packages (from importlib-metadata; python_version < \"3.8\"->markdown>=2.6.8->tensorboard) (2.2.0)\n",
      "Note: you may need to restart the kernel to use updated packages.\n"
     ]
    }
   ],
   "source": [
    "pip install tensorboard"
   ]
  },
  {
   "cell_type": "code",
   "execution_count": null,
   "metadata": {},
   "outputs": [],
   "source": []
  }
 ],
 "metadata": {
  "kernelspec": {
   "display_name": "Python 3",
   "language": "python",
   "name": "python3"
  },
  "language_info": {
   "codemirror_mode": {
    "name": "ipython",
    "version": 3
   },
   "file_extension": ".py",
   "mimetype": "text/x-python",
   "name": "python",
   "nbconvert_exporter": "python",
   "pygments_lexer": "ipython3",
   "version": "3.7.6"
  }
 },
 "nbformat": 4,
 "nbformat_minor": 4
}
